{
 "cells": [
  {
   "cell_type": "markdown",
   "id": "b29e9724",
   "metadata": {},
   "source": [
    "1. Importing libraries"
   ]
  },
  {
   "cell_type": "code",
   "execution_count": 1,
   "id": "bebeded9",
   "metadata": {},
   "outputs": [],
   "source": [
    "import pandas as pd\n",
    "import numpy as np\n",
    "import matplotlib.pyplot as plt\n",
    "import seaborn as sns\n",
    "%matplotlib inline"
   ]
  },
  {
   "cell_type": "markdown",
   "id": "7d004637",
   "metadata": {},
   "source": [
    "2. Loading data and take a general look"
   ]
  },
  {
   "cell_type": "code",
   "execution_count": 2,
   "id": "485c2e21",
   "metadata": {},
   "outputs": [],
   "source": [
    "df = pd.read_excel('ds_salaries.xlsx',index_col=0)"
   ]
  },
  {
   "cell_type": "code",
   "execution_count": 3,
   "id": "df490373",
   "metadata": {},
   "outputs": [
    {
     "data": {
      "text/html": [
       "<div>\n",
       "<style scoped>\n",
       "    .dataframe tbody tr th:only-of-type {\n",
       "        vertical-align: middle;\n",
       "    }\n",
       "\n",
       "    .dataframe tbody tr th {\n",
       "        vertical-align: top;\n",
       "    }\n",
       "\n",
       "    .dataframe thead th {\n",
       "        text-align: right;\n",
       "    }\n",
       "</style>\n",
       "<table border=\"1\" class=\"dataframe\">\n",
       "  <thead>\n",
       "    <tr style=\"text-align: right;\">\n",
       "      <th></th>\n",
       "      <th>work_year</th>\n",
       "      <th>experience_level</th>\n",
       "      <th>employment_type</th>\n",
       "      <th>job_title</th>\n",
       "      <th>salary</th>\n",
       "      <th>salary_currency</th>\n",
       "      <th>salary_in_usd</th>\n",
       "      <th>employee_residence</th>\n",
       "      <th>remote_ratio</th>\n",
       "      <th>company_location</th>\n",
       "      <th>company_size</th>\n",
       "    </tr>\n",
       "  </thead>\n",
       "  <tbody>\n",
       "    <tr>\n",
       "      <th>0</th>\n",
       "      <td>2020</td>\n",
       "      <td>MI</td>\n",
       "      <td>FT</td>\n",
       "      <td>Data Scientist</td>\n",
       "      <td>70000</td>\n",
       "      <td>EUR</td>\n",
       "      <td>79833</td>\n",
       "      <td>DE</td>\n",
       "      <td>0</td>\n",
       "      <td>DE</td>\n",
       "      <td>L</td>\n",
       "    </tr>\n",
       "    <tr>\n",
       "      <th>1</th>\n",
       "      <td>2020</td>\n",
       "      <td>SE</td>\n",
       "      <td>FT</td>\n",
       "      <td>Machine Learning Scientist</td>\n",
       "      <td>260000</td>\n",
       "      <td>USD</td>\n",
       "      <td>260000</td>\n",
       "      <td>JP</td>\n",
       "      <td>0</td>\n",
       "      <td>JP</td>\n",
       "      <td>S</td>\n",
       "    </tr>\n",
       "    <tr>\n",
       "      <th>2</th>\n",
       "      <td>2020</td>\n",
       "      <td>SE</td>\n",
       "      <td>FT</td>\n",
       "      <td>Big Data Engineer</td>\n",
       "      <td>85000</td>\n",
       "      <td>GBP</td>\n",
       "      <td>109024</td>\n",
       "      <td>GB</td>\n",
       "      <td>50</td>\n",
       "      <td>GB</td>\n",
       "      <td>M</td>\n",
       "    </tr>\n",
       "    <tr>\n",
       "      <th>3</th>\n",
       "      <td>2020</td>\n",
       "      <td>MI</td>\n",
       "      <td>FT</td>\n",
       "      <td>Product Data Analyst</td>\n",
       "      <td>20000</td>\n",
       "      <td>USD</td>\n",
       "      <td>20000</td>\n",
       "      <td>HN</td>\n",
       "      <td>0</td>\n",
       "      <td>HN</td>\n",
       "      <td>S</td>\n",
       "    </tr>\n",
       "    <tr>\n",
       "      <th>4</th>\n",
       "      <td>2020</td>\n",
       "      <td>SE</td>\n",
       "      <td>FT</td>\n",
       "      <td>Machine Learning Engineer</td>\n",
       "      <td>150000</td>\n",
       "      <td>USD</td>\n",
       "      <td>150000</td>\n",
       "      <td>US</td>\n",
       "      <td>50</td>\n",
       "      <td>US</td>\n",
       "      <td>L</td>\n",
       "    </tr>\n",
       "  </tbody>\n",
       "</table>\n",
       "</div>"
      ],
      "text/plain": [
       "   work_year experience_level employment_type                   job_title  \\\n",
       "0       2020               MI              FT              Data Scientist   \n",
       "1       2020               SE              FT  Machine Learning Scientist   \n",
       "2       2020               SE              FT           Big Data Engineer   \n",
       "3       2020               MI              FT        Product Data Analyst   \n",
       "4       2020               SE              FT   Machine Learning Engineer   \n",
       "\n",
       "   salary salary_currency  salary_in_usd employee_residence  remote_ratio  \\\n",
       "0   70000             EUR          79833                 DE             0   \n",
       "1  260000             USD         260000                 JP             0   \n",
       "2   85000             GBP         109024                 GB            50   \n",
       "3   20000             USD          20000                 HN             0   \n",
       "4  150000             USD         150000                 US            50   \n",
       "\n",
       "  company_location company_size  \n",
       "0               DE            L  \n",
       "1               JP            S  \n",
       "2               GB            M  \n",
       "3               HN            S  \n",
       "4               US            L  "
      ]
     },
     "execution_count": 3,
     "metadata": {},
     "output_type": "execute_result"
    }
   ],
   "source": [
    "df.head()"
   ]
  },
  {
   "cell_type": "code",
   "execution_count": 4,
   "id": "affc39ab",
   "metadata": {},
   "outputs": [
    {
     "name": "stdout",
     "output_type": "stream",
     "text": [
      "<class 'pandas.core.frame.DataFrame'>\n",
      "Int64Index: 607 entries, 0 to 606\n",
      "Data columns (total 11 columns):\n",
      " #   Column              Non-Null Count  Dtype \n",
      "---  ------              --------------  ----- \n",
      " 0   work_year           607 non-null    int64 \n",
      " 1   experience_level    607 non-null    object\n",
      " 2   employment_type     607 non-null    object\n",
      " 3   job_title           607 non-null    object\n",
      " 4   salary              607 non-null    int64 \n",
      " 5   salary_currency     607 non-null    object\n",
      " 6   salary_in_usd       607 non-null    int64 \n",
      " 7   employee_residence  607 non-null    object\n",
      " 8   remote_ratio        607 non-null    int64 \n",
      " 9   company_location    607 non-null    object\n",
      " 10  company_size        607 non-null    object\n",
      "dtypes: int64(4), object(7)\n",
      "memory usage: 56.9+ KB\n"
     ]
    }
   ],
   "source": [
    "df.info()"
   ]
  },
  {
   "cell_type": "markdown",
   "id": "7184c1d5",
   "metadata": {},
   "source": [
    "There isnt any missing data"
   ]
  },
  {
   "cell_type": "code",
   "execution_count": 5,
   "id": "5de44f2f",
   "metadata": {},
   "outputs": [
    {
     "data": {
      "text/plain": [
       "42"
      ]
     },
     "execution_count": 5,
     "metadata": {},
     "output_type": "execute_result"
    }
   ],
   "source": [
    "sum(df.duplicated())"
   ]
  },
  {
   "cell_type": "markdown",
   "id": "a60e537d",
   "metadata": {},
   "source": [
    "There are 42 duplicates ,must be removed"
   ]
  },
  {
   "cell_type": "markdown",
   "id": "286451d2",
   "metadata": {},
   "source": [
    "3. Data Cleaning and Renaming"
   ]
  },
  {
   "cell_type": "code",
   "execution_count": 6,
   "id": "f73a9401",
   "metadata": {},
   "outputs": [],
   "source": [
    "df.drop_duplicates(inplace= True)"
   ]
  },
  {
   "cell_type": "code",
   "execution_count": 7,
   "id": "1043cca2",
   "metadata": {},
   "outputs": [
    {
     "data": {
      "text/plain": [
       "0"
      ]
     },
     "execution_count": 7,
     "metadata": {},
     "output_type": "execute_result"
    }
   ],
   "source": [
    "sum(df.duplicated())"
   ]
  },
  {
   "cell_type": "markdown",
   "id": "95146adc",
   "metadata": {},
   "source": [
    "Duplicates had been removed"
   ]
  },
  {
   "cell_type": "code",
   "execution_count": 8,
   "id": "31174ff2",
   "metadata": {},
   "outputs": [
    {
     "data": {
      "text/plain": [
       "Index(['work_year', 'experience_level', 'employment_type', 'job_title',\n",
       "       'salary', 'salary_currency', 'salary_in_usd', 'employee_residence',\n",
       "       'remote_ratio', 'company_location', 'company_size'],\n",
       "      dtype='object')"
      ]
     },
     "execution_count": 8,
     "metadata": {},
     "output_type": "execute_result"
    }
   ],
   "source": [
    "df.columns"
   ]
  },
  {
   "cell_type": "markdown",
   "id": "1a9e1ffd",
   "metadata": {},
   "source": [
    "It`s observed that there are some columns undesired for our analysis, we`ll remove them"
   ]
  },
  {
   "cell_type": "code",
   "execution_count": 9,
   "id": "33fc59d0",
   "metadata": {},
   "outputs": [],
   "source": [
    "df.drop(['salary','salary_currency'],axis=1,inplace =True)"
   ]
  },
  {
   "cell_type": "code",
   "execution_count": 10,
   "id": "d3c77eaf",
   "metadata": {},
   "outputs": [
    {
     "data": {
      "text/plain": [
       "Index(['work_year', 'experience_level', 'employment_type', 'job_title',\n",
       "       'salary_in_usd', 'employee_residence', 'remote_ratio',\n",
       "       'company_location', 'company_size'],\n",
       "      dtype='object')"
      ]
     },
     "execution_count": 10,
     "metadata": {},
     "output_type": "execute_result"
    }
   ],
   "source": [
    "df.columns"
   ]
  },
  {
   "cell_type": "markdown",
   "id": "97a3b9ec",
   "metadata": {},
   "source": [
    "salary in usd column will renamed to be salary to be in easy readable way"
   ]
  },
  {
   "cell_type": "code",
   "execution_count": 11,
   "id": "cb32c67e",
   "metadata": {},
   "outputs": [],
   "source": [
    "df.rename({'salary_in_usd':'salary'},axis=1,inplace = True)"
   ]
  },
  {
   "cell_type": "code",
   "execution_count": 12,
   "id": "96f5f79d",
   "metadata": {},
   "outputs": [
    {
     "data": {
      "text/plain": [
       "Index(['work_year', 'experience_level', 'employment_type', 'job_title',\n",
       "       'salary', 'employee_residence', 'remote_ratio', 'company_location',\n",
       "       'company_size'],\n",
       "      dtype='object')"
      ]
     },
     "execution_count": 12,
     "metadata": {},
     "output_type": "execute_result"
    }
   ],
   "source": [
    "df.columns"
   ]
  },
  {
   "cell_type": "code",
   "execution_count": 13,
   "id": "717c3029",
   "metadata": {},
   "outputs": [
    {
     "data": {
      "text/plain": [
       "2022    278\n",
       "2021    215\n",
       "2020     72\n",
       "Name: work_year, dtype: int64"
      ]
     },
     "execution_count": 13,
     "metadata": {},
     "output_type": "execute_result"
    }
   ],
   "source": [
    "df['work_year'].value_counts()"
   ]
  },
  {
   "cell_type": "code",
   "execution_count": 14,
   "id": "95b02b80",
   "metadata": {},
   "outputs": [
    {
     "data": {
      "text/plain": [
       "SE    243\n",
       "MI    208\n",
       "EN     88\n",
       "EX     26\n",
       "Name: experience_level, dtype: int64"
      ]
     },
     "execution_count": 14,
     "metadata": {},
     "output_type": "execute_result"
    }
   ],
   "source": [
    "df['experience_level'].value_counts()"
   ]
  },
  {
   "cell_type": "markdown",
   "id": "762e2070",
   "metadata": {},
   "source": [
    "we can change abbreviations to readable way"
   ]
  },
  {
   "cell_type": "code",
   "execution_count": 15,
   "id": "14bd473b",
   "metadata": {},
   "outputs": [],
   "source": [
    "def ex_le(x):\n",
    "    if x =='EN':\n",
    "        return 'Entry'\n",
    "    elif x=='MI':\n",
    "        return 'Intermediate'\n",
    "    elif x=='SE':\n",
    "        return'Senior'\n",
    "    else:\n",
    "        return 'Expert'\n",
    "        \n",
    "df['experience_level']=df['experience_level'].apply(ex_le)\n"
   ]
  },
  {
   "cell_type": "code",
   "execution_count": 16,
   "id": "abeafffc",
   "metadata": {},
   "outputs": [
    {
     "data": {
      "text/plain": [
       "Senior          243\n",
       "Intermediate    208\n",
       "Entry            88\n",
       "Expert           26\n",
       "Name: experience_level, dtype: int64"
      ]
     },
     "execution_count": 16,
     "metadata": {},
     "output_type": "execute_result"
    }
   ],
   "source": [
    "df['experience_level'].value_counts()"
   ]
  },
  {
   "cell_type": "code",
   "execution_count": 17,
   "id": "224ed4f7",
   "metadata": {},
   "outputs": [
    {
     "data": {
      "text/plain": [
       "FT    546\n",
       "PT     10\n",
       "CT      5\n",
       "FL      4\n",
       "Name: employment_type, dtype: int64"
      ]
     },
     "execution_count": 17,
     "metadata": {},
     "output_type": "execute_result"
    }
   ],
   "source": [
    "df['employment_type'].value_counts()"
   ]
  },
  {
   "cell_type": "markdown",
   "id": "7a8891a5",
   "metadata": {},
   "source": [
    "Most of our data have employment type as full time, only 19 record are other types , this sample cant be used to make a concolusion about those types of employments , so we will remove them."
   ]
  },
  {
   "cell_type": "code",
   "execution_count": 18,
   "id": "ec32f874",
   "metadata": {},
   "outputs": [
    {
     "data": {
      "text/plain": [
       "(565, 9)"
      ]
     },
     "execution_count": 18,
     "metadata": {},
     "output_type": "execute_result"
    }
   ],
   "source": [
    "df.shape"
   ]
  },
  {
   "cell_type": "code",
   "execution_count": 19,
   "id": "0b0fc41c",
   "metadata": {},
   "outputs": [
    {
     "data": {
      "text/plain": [
       "Index(['work_year', 'experience_level', 'employment_type', 'job_title',\n",
       "       'salary', 'employee_residence', 'remote_ratio', 'company_location',\n",
       "       'company_size'],\n",
       "      dtype='object')"
      ]
     },
     "execution_count": 19,
     "metadata": {},
     "output_type": "execute_result"
    }
   ],
   "source": [
    "df.columns"
   ]
  },
  {
   "cell_type": "code",
   "execution_count": 20,
   "id": "f1864b10",
   "metadata": {},
   "outputs": [],
   "source": [
    "df=df[df['employment_type']=='FT']"
   ]
  },
  {
   "cell_type": "code",
   "execution_count": 21,
   "id": "0de48019",
   "metadata": {},
   "outputs": [
    {
     "data": {
      "text/plain": [
       "(546, 9)"
      ]
     },
     "execution_count": 21,
     "metadata": {},
     "output_type": "execute_result"
    }
   ],
   "source": [
    "df.shape"
   ]
  },
  {
   "cell_type": "markdown",
   "id": "a5cdbb13",
   "metadata": {},
   "source": [
    "19 rows had been removed , All of our data will only be for full time employment type , so we will remove that column"
   ]
  },
  {
   "cell_type": "code",
   "execution_count": 22,
   "id": "27949fe4",
   "metadata": {},
   "outputs": [],
   "source": [
    "df.drop('employment_type',axis=1, inplace =True)"
   ]
  },
  {
   "cell_type": "code",
   "execution_count": 23,
   "id": "2f3d2bf0",
   "metadata": {},
   "outputs": [
    {
     "data": {
      "text/plain": [
       "Index(['work_year', 'experience_level', 'job_title', 'salary',\n",
       "       'employee_residence', 'remote_ratio', 'company_location',\n",
       "       'company_size'],\n",
       "      dtype='object')"
      ]
     },
     "execution_count": 23,
     "metadata": {},
     "output_type": "execute_result"
    }
   ],
   "source": [
    "df.columns"
   ]
  },
  {
   "cell_type": "code",
   "execution_count": 24,
   "id": "7fd33450",
   "metadata": {},
   "outputs": [
    {
     "data": {
      "text/plain": [
       "100    335\n",
       "0      120\n",
       "50      91\n",
       "Name: remote_ratio, dtype: int64"
      ]
     },
     "execution_count": 24,
     "metadata": {},
     "output_type": "execute_result"
    }
   ],
   "source": [
    "df.remote_ratio.value_counts()"
   ]
  },
  {
   "cell_type": "code",
   "execution_count": 25,
   "id": "d62aaa5c",
   "metadata": {},
   "outputs": [],
   "source": [
    "def remote(x):\n",
    "    if x==0:\n",
    "        return 'Non-remote'\n",
    "    elif x==50:\n",
    "        return 'Hafly_remote'\n",
    "    else:\n",
    "        return 'Totaly_remote'   \n",
    "df.remote_ratio = df.remote_ratio.apply(remote)"
   ]
  },
  {
   "cell_type": "code",
   "execution_count": 26,
   "id": "17bc231a",
   "metadata": {},
   "outputs": [
    {
     "data": {
      "text/plain": [
       "Totaly_remote    335\n",
       "Non-remote       120\n",
       "Hafly_remote      91\n",
       "Name: remote_ratio, dtype: int64"
      ]
     },
     "execution_count": 26,
     "metadata": {},
     "output_type": "execute_result"
    }
   ],
   "source": [
    "df['remote_ratio'].value_counts()"
   ]
  },
  {
   "cell_type": "code",
   "execution_count": 27,
   "id": "9f3328ad",
   "metadata": {},
   "outputs": [],
   "source": [
    "def comp(x):\n",
    "    if x=='L':\n",
    "        return \"Large\"\n",
    "    elif x=='M':\n",
    "        return 'Medium'\n",
    "    else:\n",
    "        return 'Small'\n",
    "    \n",
    "df['company_size']=df['company_size'].apply(comp)"
   ]
  },
  {
   "cell_type": "code",
   "execution_count": 28,
   "id": "84962ed7",
   "metadata": {},
   "outputs": [
    {
     "data": {
      "text/plain": [
       "Medium    282\n",
       "Large     188\n",
       "Small      76\n",
       "Name: company_size, dtype: int64"
      ]
     },
     "execution_count": 28,
     "metadata": {},
     "output_type": "execute_result"
    }
   ],
   "source": [
    "df['company_size'].value_counts()"
   ]
  },
  {
   "cell_type": "code",
   "execution_count": 29,
   "id": "9fa62aeb",
   "metadata": {},
   "outputs": [
    {
     "data": {
      "text/html": [
       "<div>\n",
       "<style scoped>\n",
       "    .dataframe tbody tr th:only-of-type {\n",
       "        vertical-align: middle;\n",
       "    }\n",
       "\n",
       "    .dataframe tbody tr th {\n",
       "        vertical-align: top;\n",
       "    }\n",
       "\n",
       "    .dataframe thead th {\n",
       "        text-align: right;\n",
       "    }\n",
       "</style>\n",
       "<table border=\"1\" class=\"dataframe\">\n",
       "  <thead>\n",
       "    <tr style=\"text-align: right;\">\n",
       "      <th></th>\n",
       "      <th>work_year</th>\n",
       "      <th>experience_level</th>\n",
       "      <th>job_title</th>\n",
       "      <th>salary</th>\n",
       "      <th>employee_residence</th>\n",
       "      <th>remote_ratio</th>\n",
       "      <th>company_location</th>\n",
       "      <th>company_size</th>\n",
       "    </tr>\n",
       "  </thead>\n",
       "  <tbody>\n",
       "    <tr>\n",
       "      <th>0</th>\n",
       "      <td>2020</td>\n",
       "      <td>Intermediate</td>\n",
       "      <td>Data Scientist</td>\n",
       "      <td>79833</td>\n",
       "      <td>DE</td>\n",
       "      <td>Non-remote</td>\n",
       "      <td>DE</td>\n",
       "      <td>Large</td>\n",
       "    </tr>\n",
       "    <tr>\n",
       "      <th>1</th>\n",
       "      <td>2020</td>\n",
       "      <td>Senior</td>\n",
       "      <td>Machine Learning Scientist</td>\n",
       "      <td>260000</td>\n",
       "      <td>JP</td>\n",
       "      <td>Non-remote</td>\n",
       "      <td>JP</td>\n",
       "      <td>Small</td>\n",
       "    </tr>\n",
       "    <tr>\n",
       "      <th>2</th>\n",
       "      <td>2020</td>\n",
       "      <td>Senior</td>\n",
       "      <td>Big Data Engineer</td>\n",
       "      <td>109024</td>\n",
       "      <td>GB</td>\n",
       "      <td>Hafly_remote</td>\n",
       "      <td>GB</td>\n",
       "      <td>Medium</td>\n",
       "    </tr>\n",
       "    <tr>\n",
       "      <th>3</th>\n",
       "      <td>2020</td>\n",
       "      <td>Intermediate</td>\n",
       "      <td>Product Data Analyst</td>\n",
       "      <td>20000</td>\n",
       "      <td>HN</td>\n",
       "      <td>Non-remote</td>\n",
       "      <td>HN</td>\n",
       "      <td>Small</td>\n",
       "    </tr>\n",
       "    <tr>\n",
       "      <th>4</th>\n",
       "      <td>2020</td>\n",
       "      <td>Senior</td>\n",
       "      <td>Machine Learning Engineer</td>\n",
       "      <td>150000</td>\n",
       "      <td>US</td>\n",
       "      <td>Hafly_remote</td>\n",
       "      <td>US</td>\n",
       "      <td>Large</td>\n",
       "    </tr>\n",
       "  </tbody>\n",
       "</table>\n",
       "</div>"
      ],
      "text/plain": [
       "   work_year experience_level                   job_title  salary  \\\n",
       "0       2020     Intermediate              Data Scientist   79833   \n",
       "1       2020           Senior  Machine Learning Scientist  260000   \n",
       "2       2020           Senior           Big Data Engineer  109024   \n",
       "3       2020     Intermediate        Product Data Analyst   20000   \n",
       "4       2020           Senior   Machine Learning Engineer  150000   \n",
       "\n",
       "  employee_residence  remote_ratio company_location company_size  \n",
       "0                 DE    Non-remote               DE        Large  \n",
       "1                 JP    Non-remote               JP        Small  \n",
       "2                 GB  Hafly_remote               GB       Medium  \n",
       "3                 HN    Non-remote               HN        Small  \n",
       "4                 US  Hafly_remote               US        Large  "
      ]
     },
     "execution_count": 29,
     "metadata": {},
     "output_type": "execute_result"
    }
   ],
   "source": [
    "df.head()"
   ]
  },
  {
   "cell_type": "markdown",
   "id": "528dd14d",
   "metadata": {},
   "source": [
    "Now , our Data is ready for investigation"
   ]
  },
  {
   "cell_type": "markdown",
   "id": "0603f156",
   "metadata": {},
   "source": [
    "Q1: Which company size is most preferable for each experience level?"
   ]
  },
  {
   "cell_type": "markdown",
   "id": "3aeecfe0",
   "metadata": {},
   "source": [
    "Let`s set visuals"
   ]
  },
  {
   "cell_type": "code",
   "execution_count": 30,
   "id": "d7fc7a88",
   "metadata": {},
   "outputs": [],
   "source": [
    "sns.set_style('darkgrid')"
   ]
  },
  {
   "cell_type": "code",
   "execution_count": 31,
   "id": "653691d4",
   "metadata": {},
   "outputs": [
    {
     "data": {
      "text/plain": [
       "<AxesSubplot:title={'center':'Average Salaries for experience level over company size'}, xlabel='experience_level,company_size', ylabel='Average Salaries in USD'>"
      ]
     },
     "execution_count": 31,
     "metadata": {},
     "output_type": "execute_result"
    },
    {
     "data": {
      "image/png": "[encoded data removed]",
      "text/plain": [
       "<Figure size 1152x504 with 1 Axes>"
      ]
     },
     "metadata": {},
     "output_type": "display_data"
    }
   ],
   "source": [
    "plt.figure(figsize=(16,7),edgecolor='black',facecolor='yellow')\n",
    "plt.title('Average Salaries for experience level over company size',fontsize=20,color='r')\n",
    "plt.ylabel('Average Salaries in USD',fontsize=15,color='r')\n",
    "df.groupby(['experience_level','company_size'])['salary'].mean().plot(kind='bar',color=['k','yellow','b','g','r','y','c','m'],alpha=0.7)"
   ]
  },
  {
   "cell_type": "markdown",
   "id": "d3557275",
   "metadata": {},
   "source": [
    "-For Entry level , medium size companies give the minimum averages compared to other company sizes\n",
    "-For Intermediate experience level,Small companies are the least salaries\n",
    "-while for seniors and Experts , as company size increases salaries increases and vise versa. "
   ]
  },
  {
   "cell_type": "markdown",
   "id": "1c660721",
   "metadata": {},
   "source": [
    "Q2: Which countries has the most vacancies for data scientisit?"
   ]
  },
  {
   "cell_type": "code",
   "execution_count": 32,
   "id": "3356628a",
   "metadata": {},
   "outputs": [
    {
     "data": {
      "text/plain": [
       "company_location\n",
       "US    309\n",
       "GB     46\n",
       "CA     28\n",
       "DE     25\n",
       "IN     23\n",
       "Name: company_location, dtype: int64"
      ]
     },
     "execution_count": 32,
     "metadata": {},
     "output_type": "execute_result"
    }
   ],
   "source": [
    "df.groupby(['company_location'])['company_location'].count().sort_values(ascending=False).head(5)"
   ]
  },
  {
   "cell_type": "code",
   "execution_count": 33,
   "id": "e47e8d81",
   "metadata": {},
   "outputs": [
    {
     "data": {
      "image/png": "[encoded data removed]",
      "text/plain": [
       "<Figure size 432x288 with 1 Axes>"
      ]
     },
     "metadata": {},
     "output_type": "display_data"
    }
   ],
   "source": [
    "color=['k','yellow','b','g','r','y','c','m']\n",
    "myexplode=[0,0.2,0,0.5,0.1]\n",
    "plt.title('Counts of Opportuinities for top 5 Countries',fontsize=15,c='k')\n",
    "df.groupby(['company_location'])['company_location'].count().sort_values(ascending=False).head(5).plot(kind='pie',explode=myexplode);"
   ]
  },
  {
   "cell_type": "markdown",
   "id": "d894f584",
   "metadata": {},
   "source": [
    "It`s obvious that USA have the most data science vacancies."
   ]
  },
  {
   "cell_type": "markdown",
   "id": "2b535c63",
   "metadata": {},
   "source": [
    "Q3: Which year has the highest average value of salaries?"
   ]
  },
  {
   "cell_type": "code",
   "execution_count": 34,
   "id": "e10d91b3",
   "metadata": {},
   "outputs": [
    {
     "data": {
      "image/png": "[encoded data removed]",
      "text/plain": [
       "<Figure size 864x360 with 1 Axes>"
      ]
     },
     "metadata": {},
     "output_type": "display_data"
    }
   ],
   "source": [
    "plt.figure(figsize=(12,5),edgecolor='black',facecolor='yellow')\n",
    "plt.title('Average Salaries for each year',fontsize=20,color='r')\n",
    "plt.ylabel('Average Salaries in USD',fontsize=15,color='r')\n",
    "df.groupby(['work_year'])['salary'].mean().plot(kind='line',lw=3);\n"
   ]
  },
  {
   "cell_type": "code",
   "execution_count": 35,
   "id": "9a4661eb",
   "metadata": {},
   "outputs": [
    {
     "data": {
      "text/plain": [
       "<AxesSubplot:title={'center':'Salaries Trend for experience levels'}, xlabel='work_year', ylabel='salary'>"
      ]
     },
     "execution_count": 35,
     "metadata": {},
     "output_type": "execute_result"
    },
    {
     "data": {
      "image/png": "[encoded data removed]",
      "text/plain": [
       "<Figure size 720x360 with 1 Axes>"
      ]
     },
     "metadata": {},
     "output_type": "display_data"
    }
   ],
   "source": [
    "x=df.groupby(['work_year','experience_level'])['salary'].mean()\n",
    "x=x.reset_index()\n",
    "plt.figure(figsize=(10,5),edgecolor='black',facecolor='lightblue')\n",
    "plt.title('Salaries Trend for experience levels',fontsize=20,color='r')\n",
    "sns.lineplot(data=x,x='work_year',y='salary',hue='experience_level')"
   ]
  },
  {
   "cell_type": "markdown",
   "id": "daeba622",
   "metadata": {},
   "source": [
    "there was a significant decrease in average salaries for experts while other experience levels had a slightly increase in average salaries."
   ]
  },
  {
   "cell_type": "code",
   "execution_count": 36,
   "id": "c247c68e",
   "metadata": {},
   "outputs": [
    {
     "data": {
      "text/html": [
       "<div>\n",
       "<style scoped>\n",
       "    .dataframe tbody tr th:only-of-type {\n",
       "        vertical-align: middle;\n",
       "    }\n",
       "\n",
       "    .dataframe tbody tr th {\n",
       "        vertical-align: top;\n",
       "    }\n",
       "\n",
       "    .dataframe thead th {\n",
       "        text-align: right;\n",
       "    }\n",
       "</style>\n",
       "<table border=\"1\" class=\"dataframe\">\n",
       "  <thead>\n",
       "    <tr style=\"text-align: right;\">\n",
       "      <th></th>\n",
       "      <th>experience_level</th>\n",
       "      <th>remote_ratio</th>\n",
       "      <th>salary</th>\n",
       "    </tr>\n",
       "  </thead>\n",
       "  <tbody>\n",
       "    <tr>\n",
       "      <th>0</th>\n",
       "      <td>Entry</td>\n",
       "      <td>Hafly_remote</td>\n",
       "      <td>63897.619048</td>\n",
       "    </tr>\n",
       "    <tr>\n",
       "      <th>1</th>\n",
       "      <td>Entry</td>\n",
       "      <td>Non-remote</td>\n",
       "      <td>57666.357143</td>\n",
       "    </tr>\n",
       "    <tr>\n",
       "      <th>2</th>\n",
       "      <td>Entry</td>\n",
       "      <td>Totaly_remote</td>\n",
       "      <td>66885.454545</td>\n",
       "    </tr>\n",
       "    <tr>\n",
       "      <th>3</th>\n",
       "      <td>Expert</td>\n",
       "      <td>Hafly_remote</td>\n",
       "      <td>143175.400000</td>\n",
       "    </tr>\n",
       "    <tr>\n",
       "      <th>4</th>\n",
       "      <td>Expert</td>\n",
       "      <td>Non-remote</td>\n",
       "      <td>158948.666667</td>\n",
       "    </tr>\n",
       "    <tr>\n",
       "      <th>5</th>\n",
       "      <td>Expert</td>\n",
       "      <td>Totaly_remote</td>\n",
       "      <td>210321.764706</td>\n",
       "    </tr>\n",
       "    <tr>\n",
       "      <th>6</th>\n",
       "      <td>Intermediate</td>\n",
       "      <td>Hafly_remote</td>\n",
       "      <td>80217.026316</td>\n",
       "    </tr>\n",
       "    <tr>\n",
       "      <th>7</th>\n",
       "      <td>Intermediate</td>\n",
       "      <td>Non-remote</td>\n",
       "      <td>84269.924528</td>\n",
       "    </tr>\n",
       "    <tr>\n",
       "      <th>8</th>\n",
       "      <td>Intermediate</td>\n",
       "      <td>Totaly_remote</td>\n",
       "      <td>92857.118182</td>\n",
       "    </tr>\n",
       "    <tr>\n",
       "      <th>9</th>\n",
       "      <td>Senior</td>\n",
       "      <td>Hafly_remote</td>\n",
       "      <td>95250.888889</td>\n",
       "    </tr>\n",
       "    <tr>\n",
       "      <th>10</th>\n",
       "      <td>Senior</td>\n",
       "      <td>Non-remote</td>\n",
       "      <td>140591.060000</td>\n",
       "    </tr>\n",
       "    <tr>\n",
       "      <th>11</th>\n",
       "      <td>Senior</td>\n",
       "      <td>Totaly_remote</td>\n",
       "      <td>145480.298780</td>\n",
       "    </tr>\n",
       "  </tbody>\n",
       "</table>\n",
       "</div>"
      ],
      "text/plain": [
       "   experience_level   remote_ratio         salary\n",
       "0             Entry   Hafly_remote   63897.619048\n",
       "1             Entry     Non-remote   57666.357143\n",
       "2             Entry  Totaly_remote   66885.454545\n",
       "3            Expert   Hafly_remote  143175.400000\n",
       "4            Expert     Non-remote  158948.666667\n",
       "5            Expert  Totaly_remote  210321.764706\n",
       "6      Intermediate   Hafly_remote   80217.026316\n",
       "7      Intermediate     Non-remote   84269.924528\n",
       "8      Intermediate  Totaly_remote   92857.118182\n",
       "9            Senior   Hafly_remote   95250.888889\n",
       "10           Senior     Non-remote  140591.060000\n",
       "11           Senior  Totaly_remote  145480.298780"
      ]
     },
     "execution_count": 36,
     "metadata": {},
     "output_type": "execute_result"
    }
   ],
   "source": [
    "y=df.groupby(['experience_level','remote_ratio'])['salary'].mean()\n",
    "y=y.reset_index()\n",
    "y"
   ]
  },
  {
   "cell_type": "code",
   "execution_count": 37,
   "id": "47b3bc04",
   "metadata": {},
   "outputs": [
    {
     "data": {
      "image/png": "[encoded data removed]",
      "text/plain": [
       "<Figure size 720x360 with 1 Axes>"
      ]
     },
     "metadata": {},
     "output_type": "display_data"
    }
   ],
   "source": [
    "plt.figure(figsize=(10,5),edgecolor='black',facecolor='lightblue')\n",
    "plt.title('Average Salaries for experience levels for Remote ',fontsize=20,color='r')\n",
    "sns.barplot(data=y,x='experience_level',y='salary',hue='remote_ratio');"
   ]
  },
  {
   "cell_type": "markdown",
   "id": "82a5c283",
   "metadata": {},
   "source": [
    "-Fully Remote jobs gives a relatively higher average rates."
   ]
  },
  {
   "cell_type": "code",
   "execution_count": 38,
   "id": "594842d9",
   "metadata": {},
   "outputs": [
    {
     "data": {
      "text/html": [
       "<div>\n",
       "<style scoped>\n",
       "    .dataframe tbody tr th:only-of-type {\n",
       "        vertical-align: middle;\n",
       "    }\n",
       "\n",
       "    .dataframe tbody tr th {\n",
       "        vertical-align: top;\n",
       "    }\n",
       "\n",
       "    .dataframe thead th {\n",
       "        text-align: right;\n",
       "    }\n",
       "</style>\n",
       "<table border=\"1\" class=\"dataframe\">\n",
       "  <thead>\n",
       "    <tr style=\"text-align: right;\">\n",
       "      <th></th>\n",
       "      <th>work_year</th>\n",
       "      <th>experience_level</th>\n",
       "      <th>job_title</th>\n",
       "      <th>salary</th>\n",
       "      <th>employee_residence</th>\n",
       "      <th>remote_ratio</th>\n",
       "      <th>company_location</th>\n",
       "      <th>company_size</th>\n",
       "    </tr>\n",
       "  </thead>\n",
       "  <tbody>\n",
       "    <tr>\n",
       "      <th>0</th>\n",
       "      <td>2020</td>\n",
       "      <td>Intermediate</td>\n",
       "      <td>Data Scientist</td>\n",
       "      <td>79833</td>\n",
       "      <td>DE</td>\n",
       "      <td>Non-remote</td>\n",
       "      <td>DE</td>\n",
       "      <td>Large</td>\n",
       "    </tr>\n",
       "    <tr>\n",
       "      <th>1</th>\n",
       "      <td>2020</td>\n",
       "      <td>Senior</td>\n",
       "      <td>Machine Learning Scientist</td>\n",
       "      <td>260000</td>\n",
       "      <td>JP</td>\n",
       "      <td>Non-remote</td>\n",
       "      <td>JP</td>\n",
       "      <td>Small</td>\n",
       "    </tr>\n",
       "    <tr>\n",
       "      <th>2</th>\n",
       "      <td>2020</td>\n",
       "      <td>Senior</td>\n",
       "      <td>Big Data Engineer</td>\n",
       "      <td>109024</td>\n",
       "      <td>GB</td>\n",
       "      <td>Hafly_remote</td>\n",
       "      <td>GB</td>\n",
       "      <td>Medium</td>\n",
       "    </tr>\n",
       "    <tr>\n",
       "      <th>3</th>\n",
       "      <td>2020</td>\n",
       "      <td>Intermediate</td>\n",
       "      <td>Product Data Analyst</td>\n",
       "      <td>20000</td>\n",
       "      <td>HN</td>\n",
       "      <td>Non-remote</td>\n",
       "      <td>HN</td>\n",
       "      <td>Small</td>\n",
       "    </tr>\n",
       "    <tr>\n",
       "      <th>4</th>\n",
       "      <td>2020</td>\n",
       "      <td>Senior</td>\n",
       "      <td>Machine Learning Engineer</td>\n",
       "      <td>150000</td>\n",
       "      <td>US</td>\n",
       "      <td>Hafly_remote</td>\n",
       "      <td>US</td>\n",
       "      <td>Large</td>\n",
       "    </tr>\n",
       "    <tr>\n",
       "      <th>...</th>\n",
       "      <td>...</td>\n",
       "      <td>...</td>\n",
       "      <td>...</td>\n",
       "      <td>...</td>\n",
       "      <td>...</td>\n",
       "      <td>...</td>\n",
       "      <td>...</td>\n",
       "      <td>...</td>\n",
       "    </tr>\n",
       "    <tr>\n",
       "      <th>602</th>\n",
       "      <td>2022</td>\n",
       "      <td>Senior</td>\n",
       "      <td>Data Engineer</td>\n",
       "      <td>154000</td>\n",
       "      <td>US</td>\n",
       "      <td>Totaly_remote</td>\n",
       "      <td>US</td>\n",
       "      <td>Medium</td>\n",
       "    </tr>\n",
       "    <tr>\n",
       "      <th>603</th>\n",
       "      <td>2022</td>\n",
       "      <td>Senior</td>\n",
       "      <td>Data Engineer</td>\n",
       "      <td>126000</td>\n",
       "      <td>US</td>\n",
       "      <td>Totaly_remote</td>\n",
       "      <td>US</td>\n",
       "      <td>Medium</td>\n",
       "    </tr>\n",
       "    <tr>\n",
       "      <th>604</th>\n",
       "      <td>2022</td>\n",
       "      <td>Senior</td>\n",
       "      <td>Data Analyst</td>\n",
       "      <td>129000</td>\n",
       "      <td>US</td>\n",
       "      <td>Non-remote</td>\n",
       "      <td>US</td>\n",
       "      <td>Medium</td>\n",
       "    </tr>\n",
       "    <tr>\n",
       "      <th>605</th>\n",
       "      <td>2022</td>\n",
       "      <td>Senior</td>\n",
       "      <td>Data Analyst</td>\n",
       "      <td>150000</td>\n",
       "      <td>US</td>\n",
       "      <td>Totaly_remote</td>\n",
       "      <td>US</td>\n",
       "      <td>Medium</td>\n",
       "    </tr>\n",
       "    <tr>\n",
       "      <th>606</th>\n",
       "      <td>2022</td>\n",
       "      <td>Intermediate</td>\n",
       "      <td>AI Scientist</td>\n",
       "      <td>200000</td>\n",
       "      <td>IN</td>\n",
       "      <td>Totaly_remote</td>\n",
       "      <td>US</td>\n",
       "      <td>Large</td>\n",
       "    </tr>\n",
       "  </tbody>\n",
       "</table>\n",
       "<p>546 rows × 8 columns</p>\n",
       "</div>"
      ],
      "text/plain": [
       "     work_year experience_level                   job_title  salary  \\\n",
       "0         2020     Intermediate              Data Scientist   79833   \n",
       "1         2020           Senior  Machine Learning Scientist  260000   \n",
       "2         2020           Senior           Big Data Engineer  109024   \n",
       "3         2020     Intermediate        Product Data Analyst   20000   \n",
       "4         2020           Senior   Machine Learning Engineer  150000   \n",
       "..         ...              ...                         ...     ...   \n",
       "602       2022           Senior               Data Engineer  154000   \n",
       "603       2022           Senior               Data Engineer  126000   \n",
       "604       2022           Senior                Data Analyst  129000   \n",
       "605       2022           Senior                Data Analyst  150000   \n",
       "606       2022     Intermediate                AI Scientist  200000   \n",
       "\n",
       "    employee_residence   remote_ratio company_location company_size  \n",
       "0                   DE     Non-remote               DE        Large  \n",
       "1                   JP     Non-remote               JP        Small  \n",
       "2                   GB   Hafly_remote               GB       Medium  \n",
       "3                   HN     Non-remote               HN        Small  \n",
       "4                   US   Hafly_remote               US        Large  \n",
       "..                 ...            ...              ...          ...  \n",
       "602                 US  Totaly_remote               US       Medium  \n",
       "603                 US  Totaly_remote               US       Medium  \n",
       "604                 US     Non-remote               US       Medium  \n",
       "605                 US  Totaly_remote               US       Medium  \n",
       "606                 IN  Totaly_remote               US        Large  \n",
       "\n",
       "[546 rows x 8 columns]"
      ]
     },
     "execution_count": 38,
     "metadata": {},
     "output_type": "execute_result"
    }
   ],
   "source": [
    "df"
   ]
  },
  {
   "cell_type": "markdown",
   "id": "0a30e571",
   "metadata": {},
   "source": [
    "Q4: which country has the most people work with data? and which has a higher revenues?"
   ]
  },
  {
   "cell_type": "code",
   "execution_count": 39,
   "id": "41747619",
   "metadata": {},
   "outputs": [
    {
     "data": {
      "image/png": "[encoded data removed]",
      "text/plain": [
       "<Figure size 432x288 with 1 Axes>"
      ]
     },
     "metadata": {},
     "output_type": "display_data"
    }
   ],
   "source": [
    "df['employee_residence'].value_counts().head().plot(kind='bar');"
   ]
  },
  {
   "cell_type": "code",
   "execution_count": 40,
   "id": "51ff4b46",
   "metadata": {},
   "outputs": [],
   "source": [
    "z=df.groupby(['employee_residence'])['salary'].sum().sort_values(ascending=False).head(6)\n",
    "z=z.reset_index()"
   ]
  },
  {
   "cell_type": "code",
   "execution_count": 41,
   "id": "14b67b9d",
   "metadata": {},
   "outputs": [
    {
     "data": {
      "image/png": "[encoded data removed]",
      "text/plain": [
       "<Figure size 720x360 with 1 Axes>"
      ]
     },
     "metadata": {},
     "output_type": "display_data"
    }
   ],
   "source": [
    "plt.figure(figsize=(10,5),edgecolor='black',facecolor='lightblue')\n",
    "plt.title('Total Salaries per Countries ',fontsize=20,color='r')\n",
    "sns.barplot(data=z,x='employee_residence',y='salary');"
   ]
  },
  {
   "cell_type": "markdown",
   "id": "5f5d1091",
   "metadata": {},
   "source": [
    "it`s clear that USA has the higher total salaries and higher count of employees."
   ]
  },
  {
   "cell_type": "markdown",
   "id": "067181ff",
   "metadata": {},
   "source": [
    "Q5:which countries gives a higher salaries ? and also which employees has a higher revenues?"
   ]
  },
  {
   "cell_type": "code",
   "execution_count": 42,
   "id": "922ea0e8",
   "metadata": {},
   "outputs": [],
   "source": [
    "x=df.groupby(['employee_residence'])['salary'].mean()\n",
    "x=x.reset_index()\n",
    "x=x.sort_values('salary',ascending=False).head(5)"
   ]
  },
  {
   "cell_type": "code",
   "execution_count": 43,
   "id": "3e6acbd2",
   "metadata": {},
   "outputs": [
    {
     "data": {
      "image/png": "[encoded data removed]",
      "text/plain": [
       "<Figure size 720x360 with 1 Axes>"
      ]
     },
     "metadata": {},
     "output_type": "display_data"
    }
   ],
   "source": [
    "plt.figure(figsize=(10,5),edgecolor='black',facecolor='lightblue')\n",
    "plt.title('Average Salaries per Countries ',fontsize=20,color='r')\n",
    "sns.barplot(data=x,x='employee_residence',y='salary');"
   ]
  },
  {
   "cell_type": "markdown",
   "id": "871335c2",
   "metadata": {},
   "source": [
    "Malysia has a higher revenues in average"
   ]
  },
  {
   "cell_type": "code",
   "execution_count": 44,
   "id": "73acf62c",
   "metadata": {},
   "outputs": [],
   "source": [
    "x=df.groupby(['company_location'])['salary'].mean()\n",
    "x=x.reset_index()\n",
    "x=x.sort_values('salary',ascending=False).head(5)"
   ]
  },
  {
   "cell_type": "code",
   "execution_count": 45,
   "id": "819bfd92",
   "metadata": {},
   "outputs": [
    {
     "data": {
      "image/png": "[encoded data removed]",
      "text/plain": [
       "<Figure size 720x360 with 1 Axes>"
      ]
     },
     "metadata": {},
     "output_type": "display_data"
    }
   ],
   "source": [
    "plt.figure(figsize=(10,5),edgecolor='black',facecolor='lightblue')\n",
    "plt.title('Average Payment per Countries ',fontsize=20,color='r')\n",
    "sns.barplot(data=x,x='company_location',y='salary');"
   ]
  },
  {
   "cell_type": "markdown",
   "id": "37391ae6",
   "metadata": {},
   "source": [
    "-Russia then USA are the most higher countries that pay to people work with data"
   ]
  },
  {
   "cell_type": "markdown",
   "id": "de2bb5ee",
   "metadata": {},
   "source": [
    "Concolusion:\n",
    "    1.Most of Data vacancies are full time employments.\n",
    "    2.-For Entry level,medium size companies give the minimum averages compared to other company sizes\n",
    "    3 -For Intermediate experience level,Small companies are the least salaries \n",
    "    4- while for seniors and Experts , as company size increases salaries increases and vise versa.\n",
    "    5-By the time from 2020 to 2022, Average salaries for data employees in entry and intermediate are slightly increases\n",
    "    , seniors have higher increase in salaries while experts salries decreases.\n",
    "    6-Totally remote jobs gives relatively higher salaries.\n",
    "    7-USA have the most companies and most of data employees\n",
    "    8- In average , Malysia ,France then USA have employees of higher revenues.\n",
    "    9-Russia and USA are the most countries that pay for data."
   ]
  }
 ],
 "metadata": {
  "kernelspec": {
   "display_name": "Python 3 (ipykernel)",
   "language": "python",
   "name": "python3"
  },
  "language_info": {
   "codemirror_mode": {
    "name": "ipython",
    "version": 3
   },
   "file_extension": ".py",
   "mimetype": "text/x-python",
   "name": "python",
   "nbconvert_exporter": "python",
   "pygments_lexer": "ipython3",
   "version": "3.9.12"
  }
 },
 "nbformat": 4,
 "nbformat_minor": 5
}
